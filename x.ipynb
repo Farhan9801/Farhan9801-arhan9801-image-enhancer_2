{
 "cells": [
  {
   "cell_type": "code",
   "execution_count": 2,
   "id": "d48c2bb9",
   "metadata": {},
   "outputs": [
    {
     "name": "stdout",
     "output_type": "stream",
     "text": [
      "Requirement already satisfied: opencv-python in c:\\users\\farha\\anaconda3\\envs\\img_2\\lib\\site-packages (4.10.0.84)\n",
      "Requirement already satisfied: numpy>=1.21.2 in c:\\users\\farha\\anaconda3\\envs\\img_2\\lib\\site-packages (from opencv-python) (1.26.4)\n"
     ]
    }
   ],
   "source": [
    "!pip install opencv-python\n"
   ]
  },
  {
   "cell_type": "code",
   "execution_count": 9,
   "id": "2b998c17",
   "metadata": {},
   "outputs": [
    {
     "ename": "TypeError",
     "evalue": "main() takes 0 positional arguments but 1 was given",
     "output_type": "error",
     "traceback": [
      "\u001b[1;31m---------------------------------------------------------------------------\u001b[0m",
      "\u001b[1;31mTypeError\u001b[0m                                 Traceback (most recent call last)",
      "Cell \u001b[1;32mIn[9], line 18\u001b[0m\n\u001b[0;32m      2\u001b[0m \u001b[38;5;28;01mimport\u001b[39;00m \u001b[38;5;21;01margparse\u001b[39;00m\n\u001b[0;32m      4\u001b[0m args \u001b[38;5;241m=\u001b[39m argparse\u001b[38;5;241m.\u001b[39mNamespace(\n\u001b[0;32m      5\u001b[0m     task\u001b[38;5;241m=\u001b[39m\u001b[38;5;124m'\u001b[39m\u001b[38;5;124mreal_sr\u001b[39m\u001b[38;5;124m'\u001b[39m,\n\u001b[0;32m      6\u001b[0m     scale\u001b[38;5;241m=\u001b[39m\u001b[38;5;241m4\u001b[39m,\n\u001b[1;32m   (...)\u001b[0m\n\u001b[0;32m     15\u001b[0m     tile_overlap\u001b[38;5;241m=\u001b[39m\u001b[38;5;241m32\u001b[39m\n\u001b[0;32m     16\u001b[0m )\n\u001b[1;32m---> 18\u001b[0m \u001b[43mmain\u001b[49m\u001b[43m(\u001b[49m\u001b[43margs\u001b[49m\u001b[43m)\u001b[49m\n",
      "\u001b[1;31mTypeError\u001b[0m: main() takes 0 positional arguments but 1 was given"
     ]
    }
   ],
   "source": [
    "from main_test_swinir import main\n",
    "import argparse\n",
    "\n",
    "args = argparse.Namespace(\n",
    "    task='real_sr',\n",
    "    scale=4,\n",
    "    noise=15,\n",
    "    jpeg=40,\n",
    "    training_patch_size=128,\n",
    "    large_model=True,\n",
    "    model_path='model_zoo/swinir/003_realSR_BSRGAN_DFOWMFC_s64w8_SwinIR-L_x4_GAN.pth',\n",
    "    folder_lq='testsets/RealSRSet+5images',\n",
    "    folder_gt=None,\n",
    "    tile=None,\n",
    "    tile_overlap=32\n",
    ")\n",
    "\n",
    "main(args)\n"
   ]
  },
  {
   "cell_type": "code",
   "execution_count": 4,
   "id": "8f7aeee8",
   "metadata": {},
   "outputs": [
    {
     "name": "stdout",
     "output_type": "stream",
     "text": [
      "Collecting timm\n",
      "  Downloading timm-1.0.15-py3-none-any.whl.metadata (52 kB)\n",
      "     ---------------------------------------- 0.0/52.0 kB ? eta -:--:--\n",
      "     -------------- ----------------------- 20.5/52.0 kB 330.3 kB/s eta 0:00:01\n",
      "     -------------------------------------  51.2/52.0 kB 525.1 kB/s eta 0:00:01\n",
      "     -------------------------------------- 52.0/52.0 kB 383.4 kB/s eta 0:00:00\n",
      "Requirement already satisfied: torch in c:\\users\\farha\\anaconda3\\envs\\img_2\\lib\\site-packages (from timm) (2.4.0)\n",
      "Requirement already satisfied: torchvision in c:\\users\\farha\\anaconda3\\envs\\img_2\\lib\\site-packages (from timm) (0.19.0)\n",
      "Requirement already satisfied: pyyaml in c:\\users\\farha\\anaconda3\\envs\\img_2\\lib\\site-packages (from timm) (6.0.1)\n",
      "Requirement already satisfied: huggingface_hub in c:\\users\\farha\\anaconda3\\envs\\img_2\\lib\\site-packages (from timm) (0.24.5)\n",
      "Collecting safetensors (from timm)\n",
      "  Downloading safetensors-0.5.3-cp38-abi3-win_amd64.whl.metadata (3.9 kB)\n",
      "Requirement already satisfied: filelock in c:\\users\\farha\\anaconda3\\envs\\img_2\\lib\\site-packages (from huggingface_hub->timm) (3.13.1)\n",
      "Requirement already satisfied: fsspec>=2023.5.0 in c:\\users\\farha\\anaconda3\\envs\\img_2\\lib\\site-packages (from huggingface_hub->timm) (2024.6.1)\n",
      "Requirement already satisfied: packaging>=20.9 in c:\\users\\farha\\anaconda3\\envs\\img_2\\lib\\site-packages (from huggingface_hub->timm) (24.1)\n",
      "Requirement already satisfied: requests in c:\\users\\farha\\anaconda3\\envs\\img_2\\lib\\site-packages (from huggingface_hub->timm) (2.32.3)\n",
      "Requirement already satisfied: tqdm>=4.42.1 in c:\\users\\farha\\anaconda3\\envs\\img_2\\lib\\site-packages (from huggingface_hub->timm) (4.66.5)\n",
      "Requirement already satisfied: typing-extensions>=3.7.4.3 in c:\\users\\farha\\anaconda3\\envs\\img_2\\lib\\site-packages (from huggingface_hub->timm) (4.11.0)\n",
      "Requirement already satisfied: sympy in c:\\users\\farha\\anaconda3\\envs\\img_2\\lib\\site-packages (from torch->timm) (1.12)\n",
      "Requirement already satisfied: networkx in c:\\users\\farha\\anaconda3\\envs\\img_2\\lib\\site-packages (from torch->timm) (3.3)\n",
      "Requirement already satisfied: jinja2 in c:\\users\\farha\\anaconda3\\envs\\img_2\\lib\\site-packages (from torch->timm) (3.1.4)\n",
      "Requirement already satisfied: numpy in c:\\users\\farha\\anaconda3\\envs\\img_2\\lib\\site-packages (from torchvision->timm) (1.26.4)\n",
      "Requirement already satisfied: pillow!=8.3.*,>=5.3.0 in c:\\users\\farha\\anaconda3\\envs\\img_2\\lib\\site-packages (from torchvision->timm) (10.4.0)\n",
      "Requirement already satisfied: colorama in c:\\users\\farha\\anaconda3\\envs\\img_2\\lib\\site-packages (from tqdm>=4.42.1->huggingface_hub->timm) (0.4.6)\n",
      "Requirement already satisfied: MarkupSafe>=2.0 in c:\\users\\farha\\anaconda3\\envs\\img_2\\lib\\site-packages (from jinja2->torch->timm) (2.1.3)\n",
      "Requirement already satisfied: charset-normalizer<4,>=2 in c:\\users\\farha\\anaconda3\\envs\\img_2\\lib\\site-packages (from requests->huggingface_hub->timm) (3.3.2)\n",
      "Requirement already satisfied: idna<4,>=2.5 in c:\\users\\farha\\anaconda3\\envs\\img_2\\lib\\site-packages (from requests->huggingface_hub->timm) (3.7)\n",
      "Requirement already satisfied: urllib3<3,>=1.21.1 in c:\\users\\farha\\anaconda3\\envs\\img_2\\lib\\site-packages (from requests->huggingface_hub->timm) (2.2.2)\n",
      "Requirement already satisfied: certifi>=2017.4.17 in c:\\users\\farha\\anaconda3\\envs\\img_2\\lib\\site-packages (from requests->huggingface_hub->timm) (2024.7.4)\n",
      "Requirement already satisfied: mpmath>=0.19 in c:\\users\\farha\\anaconda3\\envs\\img_2\\lib\\site-packages (from sympy->torch->timm) (1.3.0)\n",
      "Downloading timm-1.0.15-py3-none-any.whl (2.4 MB)\n",
      "   ---------------------------------------- 0.0/2.4 MB ? eta -:--:--\n",
      "   - -------------------------------------- 0.1/2.4 MB 1.7 MB/s eta 0:00:02\n",
      "   ----- ---------------------------------- 0.3/2.4 MB 3.8 MB/s eta 0:00:01\n",
      "   ----------- ---------------------------- 0.7/2.4 MB 5.5 MB/s eta 0:00:01\n",
      "   ------------ --------------------------- 0.7/2.4 MB 5.0 MB/s eta 0:00:01\n",
      "   --------------------- ------------------ 1.3/2.4 MB 5.8 MB/s eta 0:00:01\n",
      "   ----------------------------- ---------- 1.7/2.4 MB 6.9 MB/s eta 0:00:01\n",
      "   --------------------------------- ------ 2.0/2.4 MB 5.9 MB/s eta 0:00:01\n",
      "   ---------------------------------------- 2.4/2.4 MB 6.5 MB/s eta 0:00:00\n",
      "Downloading safetensors-0.5.3-cp38-abi3-win_amd64.whl (308 kB)\n",
      "   ---------------------------------------- 0.0/308.9 kB ? eta -:--:--\n",
      "   ------------------------------------ -- 286.7/308.9 kB 18.4 MB/s eta 0:00:01\n",
      "   ---------------------------------------- 308.9/308.9 kB 3.8 MB/s eta 0:00:00\n",
      "Installing collected packages: safetensors, timm\n",
      "Successfully installed safetensors-0.5.3 timm-1.0.15\n"
     ]
    }
   ],
   "source": [
    "!pip install timm"
   ]
  },
  {
   "cell_type": "code",
   "execution_count": null,
   "id": "865386e7",
   "metadata": {},
   "outputs": [],
   "source": []
  }
 ],
 "metadata": {
  "kernelspec": {
   "display_name": "img_2",
   "language": "python",
   "name": "python3"
  },
  "language_info": {
   "codemirror_mode": {
    "name": "ipython",
    "version": 3
   },
   "file_extension": ".py",
   "mimetype": "text/x-python",
   "name": "python",
   "nbconvert_exporter": "python",
   "pygments_lexer": "ipython3",
   "version": "3.10.14"
  }
 },
 "nbformat": 4,
 "nbformat_minor": 5
}
