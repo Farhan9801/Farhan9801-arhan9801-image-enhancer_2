{
 "cells": [
  {
   "cell_type": "code",
   "execution_count": null,
   "id": "d9c61016",
   "metadata": {},
   "outputs": [],
   "source": [
    "!git clone https://github.com/Farhan9801/Farhan9801-arhan9801-image-enhancer_2.git"
   ]
  },
  {
   "cell_type": "code",
   "execution_count": null,
   "id": "d48c2bb9",
   "metadata": {},
   "outputs": [],
   "source": [
    "!pip install opencv-python\n",
    "!pip install timm\n",
    "!pip install pandas"
   ]
  },
  {
   "cell_type": "code",
   "execution_count": null,
   "id": "418e32da",
   "metadata": {},
   "outputs": [],
   "source": [
    "import pandas as pd\n",
    "\n",
    "total_urls = pd.read_csv('image_url_ideabook_page_1-20_total_1000.csv')\n",
    "total_urls = total_urls['ImageURL'].tolist()\n"
   ]
  },
  {
   "cell_type": "code",
   "execution_count": null,
   "id": "e8ec2fc2",
   "metadata": {},
   "outputs": [],
   "source": [
    "urls = total_urls[25:200]"
   ]
  },
  {
   "cell_type": "code",
   "execution_count": null,
   "id": "f9d688a5",
   "metadata": {},
   "outputs": [],
   "source": [
    "import requests\n",
    "import os\n",
    "\n",
    "output_dir = 'latest_download'\n",
    "os.makedirs(output_dir, exist_ok=True)\n",
    "\n",
    "for i, url in enumerate(urls):\n",
    "    try:\n",
    "        print(i, url)\n",
    "        data = requests.get(url)\n",
    "        if data.status_code == 200:\n",
    "            file_name = os.path.basename(url)\n",
    "            file_path = os.path.join(output_dir, file_name)\n",
    "            with open(file_path, 'wb') as file:\n",
    "                file.write(data.content)\n",
    "\n",
    "    except Exception as e:\n",
    "        print(f'Unable to get the image due to {e}')"
   ]
  },
  {
   "cell_type": "markdown",
   "id": "5a204158",
   "metadata": {},
   "source": [
    "# model download"
   ]
  },
  {
   "cell_type": "code",
   "execution_count": null,
   "id": "bd4ad23d",
   "metadata": {},
   "outputs": [],
   "source": [
    "!wget https://github.com/JingyunLiang/SwinIR/releases/download/v0.0/003_realSR_BSRGAN_DFOWMFC_s64w8_SwinIR-L_x4_GAN.pth -P model_zoo/swinir"
   ]
  },
  {
   "cell_type": "code",
   "execution_count": null,
   "id": "2b998c17",
   "metadata": {},
   "outputs": [],
   "source": [
    "from main_test_swinir import main\n",
    "import argparse\n",
    "\n",
    "args = argparse.Namespace(\n",
    "    task='real_sr',\n",
    "    scale=4,\n",
    "    noise=15,\n",
    "    jpeg=40,\n",
    "    training_patch_size=128,\n",
    "    large_model=True,\n",
    "    model_path='model_zoo/swinir/003_realSR_BSRGAN_DFOWMFC_s64w8_SwinIR-L_x4_GAN.pth',\n",
    "    folder_lq='testsets/RealSRSet+5images',\n",
    "    folder_gt=None,\n",
    "    tile=None,\n",
    "    tile_overlap=32\n",
    ")\n",
    "\n",
    "main(args)\n"
   ]
  },
  {
   "cell_type": "code",
   "execution_count": null,
   "id": "865386e7",
   "metadata": {},
   "outputs": [],
   "source": [
    "import os\n",
    "import shutil\n",
    "from PIL import Image\n",
    "\n",
    "# === Configuration ===\n",
    "SOURCE_FOLDER = \"/Users/betterhalf/Farhan/tt/Original\"\n",
    "FINAL_FOLDER = \"/Users/betterhalf/Farhan/tt/final_folder\"\n",
    "MIDDLE_FOLDER = '/Users/betterhalf/Farhan/tt/middle_folder'\n",
    "MAX_SIZE_MB = 1\n",
    "QUALITY = 80  # Adjust this for compression level (60–80 is a good range)\n",
    "\n",
    "def ensure_backup_folder_structure(src_path, base_src, base_backup):\n",
    "    relative_path = os.path.relpath(src_path, base_src)\n",
    "    backup_path = os.path.join(base_backup, relative_path)\n",
    "    os.makedirs(os.path.dirname(backup_path), exist_ok=True)\n",
    "    return backup_path\n",
    "\n",
    "def compress_and_replace_image(file_path, final_path, middle_path):\n",
    "    QUALITY = 80\n",
    "    try:\n",
    "        with Image.open(file_path) as img:\n",
    "            img_format = img.format\n",
    "            if img.format.upper() not in ['JPEG', 'PNG', 'BMP', 'GIF', 'TIFF']:\n",
    "                print(f\"New Format detected {file_path} (Detected format: {img.format})\")\n",
    "                if img.format.upper() == 'MPO':\n",
    "                    file_size_bytes = os.path.getsize(file_path)\n",
    "                    file_size_mb = file_size_bytes / (1024 * 1024)\n",
    "                    print(f'BEFORE_compression {file_size_mb}')\n",
    "                    img.seek(0)  # Use the first frame\n",
    "                    img = img.convert('RGB')\n",
    "                    while file_size_mb > 1 and  QUALITY >= 60:\n",
    "                        img.save(middle_path, format='WEBP', quality=QUALITY, optimize=True, progressive=True)\n",
    "                        file_size_bytes = os.path.getsize(middle_path)\n",
    "                        file_size_mb = file_size_bytes / (1024 * 1024)\n",
    "                        print(f'after_compression {file_size_mb}')\n",
    "                        QUALITY -= 5\n",
    "\n",
    "                    shutil.copy2(middle_path, final_path)  # copy2 also preserves metadata\n",
    "                    return\n",
    "\n",
    "            # Move original image to backup folder\n",
    "            file_size_bytes = os.path.getsize(file_path)\n",
    "            file_size_mb = file_size_bytes / (1024 * 1024)\n",
    "            print(f'BEFORE_compression {file_size_mb}')\n",
    "            # shutil.copy2(file_path, backup_path)\n",
    "            # print(f\"Backed up: {file_path} -> {backup_path}\")\n",
    "            # Compress and overwrite the image\n",
    "            while file_size_mb > 1 and  QUALITY >= 60:\n",
    "                file_size_bytes = os.path.getsize(file_path)\n",
    "                file_size_mb = file_size_bytes / (1024 * 1024)\n",
    "                print(f'BEFORE_compression {file_size_mb}')\n",
    "                img.save(middle_path, format='WEBP', quality=QUALITY, optimize=True, progressive=True)\n",
    "                file_size_bytes = os.path.getsize(middle_path)\n",
    "                file_size_mb = file_size_bytes / (1024 * 1024)\n",
    "                print(f'after_compression {file_size_mb}')\n",
    "                QUALITY -= 5\n",
    "\n",
    "            shutil.copy2(middle_path, final_path)  # copy2 also preserves metadata\n",
    "            return\n",
    "            # img.save(final_path, format='WEBP', quality=QUALITY, optimize=True, progressive=True)\n",
    "            # file_size_bytes = os.path.getsize(file_path)\n",
    "            # file_size_mb = file_size_bytes / (1024 * 1024)\n",
    "            # print(f'after_compression {file_size_mb}')\n",
    "            # print(f\"Compressed and replaced: {file_path}\")\n",
    "\n",
    "    except Exception as e:\n",
    "        print(f\"Error processing {file_path}: {e}\")\n",
    "\n",
    "def is_large_image(file_path):\n",
    "    return os.path.getsize(file_path) > MAX_SIZE_MB * 1024 * 1024\n",
    "\n",
    "def process_images(src_folder, final_folder, middle_folder):\n",
    "    for root, _, files in os.walk(src_folder):\n",
    "        for name in files:\n",
    "            file_path_orinal = os.path.join(root, name)\n",
    "            middle_path = os.path.join(middle_folder, name)\n",
    "            if is_large_image(file_path_orinal):\n",
    "                # Change extension to .webp for output paths\n",
    "                final_path = ensure_backup_folder_structure(file_path_orinal, src_folder, final_folder)\n",
    "                final_path = os.path.splitext(final_path)[0] + '.webp'\n",
    "\n",
    "                middle_path = ensure_backup_folder_structure(file_path_orinal, src_folder, middle_folder)\n",
    "                middle_path = os.path.splitext(middle_path)[0] + '.webp'\n",
    "\n",
    "                print(middle_path)\n",
    "                compress_and_replace_image(file_path_orinal, final_path, middle_path)\n",
    "\n",
    "if __name__ == \"__main__\":\n",
    "    if not os.path.isdir(SOURCE_FOLDER):\n",
    "        print(f\"Source folder does not exist: {SOURCE_FOLDER}\")\n",
    "    if not os.path.isdir(FINAL_FOLDER):\n",
    "        os.makedirs(FINAL_FOLDER)\n",
    "        print(f\"Created backup folder: {FINAL_FOLDER}\")\n",
    "    if not os.path.isdir(MIDDLE_FOLDER):\n",
    "        os.makedirs(MIDDLE_FOLDER)\n",
    "        print('Created the middle folder')\n",
    "\n",
    "    process_images(SOURCE_FOLDER, FINAL_FOLDER, MIDDLE_FOLDER)"
   ]
  }
 ],
 "metadata": {
  "kernelspec": {
   "display_name": "generative",
   "language": "python",
   "name": "python3"
  },
  "language_info": {
   "codemirror_mode": {
    "name": "ipython",
    "version": 3
   },
   "file_extension": ".py",
   "mimetype": "text/x-python",
   "name": "python",
   "nbconvert_exporter": "python",
   "pygments_lexer": "ipython3",
   "version": "3.10.14"
  }
 },
 "nbformat": 4,
 "nbformat_minor": 5
}
